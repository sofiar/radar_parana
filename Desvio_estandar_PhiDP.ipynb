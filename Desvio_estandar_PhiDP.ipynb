{
 "cells": [
  {
   "cell_type": "markdown",
   "metadata": {},
   "source": [
    "###Desvio estandar PhiDP VERSION MEJORADA"
   ]
  },
  {
   "cell_type": "code",
   "execution_count": null,
   "metadata": {
    "collapsed": true
   },
   "outputs": [],
   "source": [
    "#1 cargamos los datos\n",
    "\n",
    "file6='/home/sofia/radar_parana/DATOS/CFRad/20100304/120/cfrad.20100304_222345.000_to_20100304_222732.973_INTA_Par_v122_SUR.nc'\n",
    "file5='/home/sofia/radar_parana/DATOS/CFRad/20100302/240/cfrad.20100302_190002.000_to_20100302_190341.999_INTA_Par_v114_SUR.nc'\n",
    "file4='/home/sofia/radar_parana/DATOS/CFRad/20100302/240/cfrad.20100302_202003.000_to_20100302_202342.000_INTA_Par_v121_SUR.nc'\n",
    "radar2=radar=pyart.io.read_cfradial(file4)"
   ]
  },
  {
   "cell_type": "code",
   "execution_count": null,
   "metadata": {
    "collapsed": true
   },
   "outputs": [],
   "source": [
    "radar2.altitude['data']=[radar2.altitude['data']] ##Parche!!\n",
    "ele1=radar2.extract_sweeps([0])\n"
   ]
  },
  {
   "cell_type": "code",
   "execution_count": null,
   "metadata": {
    "collapsed": true
   },
   "outputs": [],
   "source": [
    "\n",
    "datos=ele1.fields['uPhiDP']['data'].copy()\n",
    "pego=ele1.fields['uPhiDP'].copy()\n"
   ]
  },
  {
   "cell_type": "code",
   "execution_count": null,
   "metadata": {
    "collapsed": true
   },
   "outputs": [],
   "source": [
    "##va a faltar pegar el abanico\n",
    "\n",
    "##hago un doble for . forma mas optima?\n",
    "for azi in range(1,359):\n",
    "    for ran in range(1,479):\n",
    "        pego['data'][azi,ran]=datos[azi-1:azi+2,ran-1:ran+2].std()\n",
    "        pego['data'].mask[azi,ran]=datos.mask[azi-1:azi+2,ran-1:ran+2].prod()\n",
    "\n",
    "\n"
   ]
  },
  {
   "cell_type": "code",
   "execution_count": null,
   "metadata": {
    "collapsed": true
   },
   "outputs": [],
   "source": [
    "#cierro abanico\n",
    "#(estas quedan de 2*3)\n",
    "for ran in range (1,479):\n",
    "    pego['data'][0,ran]=datos[0:361:360,ran-1:ran+2].std()\n",
    "    pego['data'].mask[0,ran]=datos.mask[0:361:360,ran-1:ran+2].prod()\n",
    "    pego['data'][360,ran]=datos[0:361:360,ran-1:ran+2].std()\n",
    "    pego['data'].mask[360,ran]=datos.mask[0:361:360,ran-1:ran+2].prod()\n",
    "    "
   ]
  },
  {
   "cell_type": "code",
   "execution_count": null,
   "metadata": {
    "collapsed": true
   },
   "outputs": [],
   "source": [
    "ele1.add_field_like('uPhiDP','stdPhiDP',pego['data'])\n",
    "\n",
    "print type(pego['data'])\n",
    "print type(ele1.fields['uPhiDP']['data'])"
   ]
  },
  {
   "cell_type": "code",
   "execution_count": null,
   "metadata": {
    "collapsed": true
   },
   "outputs": [],
   "source": [
    "##Miro el valor maximo y el valor minimo del desvio (ojo con los bordes)\n",
    "print ele1.fields['stdPhiDP']['data'].max(), ele1.fields['stdPhiDP']['data'].min()\n",
    "print ele1.fields['stdPhiDP']==ele1.fields['uPhiDP']  ###??????PORQUEE\n",
    "#print datos==ele1.fields['stdPhiDP']['data']\n"
   ]
  },
  {
   "cell_type": "code",
   "execution_count": null,
   "metadata": {
    "collapsed": true
   },
   "outputs": [],
   "source": [
    "##graficos\n",
    "\n",
    "display1 = pyart.graph.RadarDisplay(ele1)\n",
    "display = pyart.graph.RadarDisplay(radar2)\n",
    "f = plt.figure(figsize = [15,12])\n",
    "\n",
    "plt.subplot(2, 3, 1) \n",
    "display.plot_ppi('dBZ',vmin=-25,vmax=75)\n",
    "plt.subplot(2, 3, 2) \n",
    "display.plot_ppi('RhoHV',vmin=0,vmax=1)\n",
    "plt.subplot(2, 3, 3) \n",
    "display.plot_ppi('ZDR',vmin=-7,vmax=11) \n",
    "plt.subplot(2, 3, 4) \n",
    "display.plot_ppi('uPhiDP',vmin=0,vmax=360) \n",
    "ax6=plt.subplot(2, 3, 5) \n",
    "display1.plot_ppi('stdPhiDP',vmin=0,vmax=200)\n",
    "ax6.set_title(u'std(PhiDP)');\n",
    "\n",
    "###OJO!!! lo que sigue es para guardar los plots. Cambiar la direccion para que no se pisen las imagenes\n",
    "##nombre de los archivos: fecha_hora(inicio)_rango\n",
    "\n",
    "#plt.savefig(\"/home/sofia/radar_parana/imagenes/20100304_222345_120\")\n",
    "#plt.savefig(\"/home/sofia/radar_parana/imagenes/20100302_190002_240\")\n",
    "plt.savefig(\"/home/sofia/radar_parana/imagenes/20100302_202003/240\")"
   ]
  }
 ],
 "metadata": {
  "kernelspec": {
   "display_name": "Python 2",
   "language": "python",
   "name": "python2"
  },
  "language_info": {
   "codemirror_mode": {
    "name": "ipython",
    "version": 2
   },
   "file_extension": ".py",
   "mimetype": "text/x-python",
   "name": "python",
   "nbconvert_exporter": "python",
   "pygments_lexer": "ipython2",
   "version": "2.7.9"
  }
 },
 "nbformat": 4,
 "nbformat_minor": 0
}

{
 "cells": [
  {
   "cell_type": "code",
   "execution_count": 1,
   "metadata": {
    "collapsed": false
   },
   "outputs": [
    {
     "name": "stdout",
     "output_type": "stream",
     "text": [
      "Automatically created module for IPython interactive environment\n"
     ]
    },
    {
     "name": "stderr",
     "output_type": "stream",
     "text": [
      "/home/sofia/anaconda/lib/python2.7/site-packages/IPython/extensions/rmagic.py:693: UserWarning: The rmagic extension in IPython is deprecated in favour of rpy2.ipython. If available, that will be loaded instead.\n",
      "http://rpy.sourceforge.net/\n",
      "  warnings.warn(\"The rmagic extension in IPython is deprecated in favour of \"\n"
     ]
    }
   ],
   "source": [
    "%matplotlib inline\n",
    "%load_ext rmagic\n",
    "print __doc__\n",
    "import numpy as np\n",
    "import pyart\n",
    "import matplotlib.pyplot as plt\n",
    "import netCDF4\n",
    "import copy\n",
    "import scipy.ndimage as nd\n",
    "import numpy.ma as ma\n",
    "from IPython.display import Latex"
   ]
  },
  {
   "cell_type": "code",
   "execution_count": 2,
   "metadata": {
    "collapsed": false
   },
   "outputs": [],
   "source": [
    "file6='/home/sofia/radar_parana/DATOS/CFRad/20100304/120/cfrad.20100304_222345.000_to_20100304_222732.973_INTA_Par_v122_SUR.nc'\n",
    "radar=pyart.io.read_cfradial(file6)"
   ]
  },
  {
   "cell_type": "code",
   "execution_count": 11,
   "metadata": {
    "collapsed": false
   },
   "outputs": [],
   "source": [
    "#pyart.retrieve\n",
    "from pyart import retrieve\n"
   ]
  },
  {
   "cell_type": "code",
   "execution_count": 12,
   "metadata": {
    "collapsed": false
   },
   "outputs": [
    {
     "ename": "AttributeError",
     "evalue": "'module' object has no attribute 'calculate_snr_from_reflectivity'",
     "output_type": "error",
     "traceback": [
      "\u001b[1;31m---------------------------------------------------------------------------\u001b[0m",
      "\u001b[1;31mAttributeError\u001b[0m                            Traceback (most recent call last)",
      "\u001b[1;32m<ipython-input-12-797c1dd23b0a>\u001b[0m in \u001b[0;36m<module>\u001b[1;34m()\u001b[0m\n\u001b[0;32m      1\u001b[0m \u001b[1;31m##Calculo del snr\u001b[0m\u001b[1;33m\u001b[0m\u001b[1;33m\u001b[0m\u001b[0m\n\u001b[0;32m      2\u001b[0m \u001b[1;33m\u001b[0m\u001b[0m\n\u001b[1;32m----> 3\u001b[1;33m \u001b[0mpyart\u001b[0m\u001b[1;33m.\u001b[0m\u001b[0mretrieve\u001b[0m\u001b[1;33m.\u001b[0m\u001b[0mcalculate_snr_from_reflectivity\u001b[0m\u001b[1;33m(\u001b[0m\u001b[0mradar\u001b[0m\u001b[1;33m,\u001b[0m \u001b[0mrefl_field\u001b[0m\u001b[1;33m=\u001b[0m\u001b[0mNone\u001b[0m\u001b[1;33m,\u001b[0m \u001b[0msnr_field\u001b[0m\u001b[1;33m=\u001b[0m\u001b[0mNone\u001b[0m\u001b[1;33m,\u001b[0m \u001b[0mtoa\u001b[0m\u001b[1;33m=\u001b[0m\u001b[1;36m25000.0\u001b[0m\u001b[1;33m)\u001b[0m\u001b[1;33m\u001b[0m\u001b[0m\n\u001b[0m\u001b[0;32m      4\u001b[0m \u001b[1;31m#pyart.retrieve.simple_moment_calculations.calculate_snr_from_reflectivity(radar)\u001b[0m\u001b[1;33m\u001b[0m\u001b[1;33m\u001b[0m\u001b[0m\n",
      "\u001b[1;31mAttributeError\u001b[0m: 'module' object has no attribute 'calculate_snr_from_reflectivity'"
     ]
    }
   ],
   "source": [
    "##Calculo del snr\n",
    "\n",
    "pyart.retrieve.calculate_snr_from_reflectivity(radar, refl_field=None, snr_field=None, toa=25000.0) \n",
    "#pyart.retrieve.simple_moment_calculations.calculate_snr_from_reflectivity(radar)"
   ]
  },
  {
   "cell_type": "code",
   "execution_count": 4,
   "metadata": {
    "collapsed": false
   },
   "outputs": [
    {
     "name": "stdout",
     "output_type": "stream",
     "text": [
      "82.6026 83.0526\n"
     ]
    }
   ],
   "source": [
    "radar.radar_calibration.keys()\n",
    "radar.radar_calibration['r_calib_radar_constant_v'].keys()\n",
    "C1=radar.radar_calibration['r_calib_radar_constant_h']['data'][0]\n",
    "C2=radar.radar_calibration['r_calib_radar_constant_v']['data'][0]\n",
    "print C1, C2"
   ]
  },
  {
   "cell_type": "code",
   "execution_count": 5,
   "metadata": {
    "collapsed": false
   },
   "outputs": [
    {
     "data": {
      "text/plain": [
       "[u'r_calib_receiver_slope_hc',\n",
       " u'r_calib_ldr_correction_h',\n",
       " u'r_calib_noise_source_power_h',\n",
       " u'r_calib_base_dbz_1km_hx',\n",
       " u'r_calib_xmit_power_v',\n",
       " u'r_calib_zdr_correction',\n",
       " u'r_calib_base_dbz_1km_hc',\n",
       " u'r_calib_xmit_power_h',\n",
       " u'r_calib_noise_vx',\n",
       " u'r_calib_noise_source_power_v',\n",
       " u'r_calib_ldr_correction_v',\n",
       " u'r_calib_receiver_slope_vx',\n",
       " u'r_calib_index',\n",
       " u'r_calib_sun_power_vc',\n",
       " u'r_calib_antenna_gain_v',\n",
       " u'r_calib_pulse_width',\n",
       " u'r_calib_sun_power_vx',\n",
       " u'r_calib_antenna_gain_h',\n",
       " u'r_calib_noise_vc',\n",
       " u'r_calib_sun_power_hc',\n",
       " u'r_calib_receiver_slope_vc',\n",
       " u'r_calib_base_dbz_1km_vc',\n",
       " u'r_calib_coupler_forward_loss_v',\n",
       " u'r_calib_two_way_radome_loss_h',\n",
       " u'r_calib_radar_constant_v',\n",
       " u'r_calib_test_power_h',\n",
       " u'r_calib_system_phidp',\n",
       " u'r_calib_sun_power_hx',\n",
       " u'r_calib_test_power_v',\n",
       " u'r_calib_two_way_radome_loss_v',\n",
       " u'r_calib_radar_constant_h',\n",
       " u'r_calib_receiver_gain_hx',\n",
       " u'r_calib_base_dbz_1km_vx',\n",
       " u'r_calib_coupler_forward_loss_h',\n",
       " u'r_calib_receiver_gain_vc',\n",
       " u'r_calib_power_measure_loss_h',\n",
       " u'r_calib_receiver_mismatch_loss',\n",
       " u'r_calib_two_way_waveguide_loss_h',\n",
       " u'r_calib_noise_hx',\n",
       " u'r_calib_noise_hc',\n",
       " u'r_calib_receiver_slope_hx',\n",
       " u'r_calib_two_way_waveguide_loss_v',\n",
       " u'r_calib_receiver_gain_vx',\n",
       " u'r_calib_power_measure_loss_v',\n",
       " u'r_calib_receiver_gain_hc',\n",
       " u'r_calib_time']"
      ]
     },
     "execution_count": 5,
     "metadata": {},
     "output_type": "execute_result"
    }
   ],
   "source": [
    "radar.radar_calibration.keys()\n"
   ]
  }
 ],
 "metadata": {
  "kernelspec": {
   "display_name": "Python 2",
   "language": "python",
   "name": "python2"
  },
  "language_info": {
   "codemirror_mode": {
    "name": "ipython",
    "version": 2
   },
   "file_extension": ".py",
   "mimetype": "text/x-python",
   "name": "python",
   "nbconvert_exporter": "python",
   "pygments_lexer": "ipython2",
   "version": "2.7.9"
  }
 },
 "nbformat": 4,
 "nbformat_minor": 0
}
